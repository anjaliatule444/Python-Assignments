{
 "cells": [
  {
   "cell_type": "code",
   "execution_count": 1,
   "metadata": {},
   "outputs": [
    {
     "name": "stdout",
     "output_type": "stream",
     "text": [
      "Hello Python\n"
     ]
    }
   ],
   "source": [
    "######  Q1.Write a python program to print \"Hello Python\"\n",
    "print(\"Hello Python\")"
   ]
  },
  {
   "cell_type": "code",
   "execution_count": 2,
   "metadata": {},
   "outputs": [
    {
     "name": "stdout",
     "output_type": "stream",
     "text": [
      "10\n",
      "4\n",
      "Addition= 14\n",
      "division= 2.5\n"
     ]
    }
   ],
   "source": [
    "###### Q2.Write a Python Program to do arithmetical operations addition and division\n",
    "a=int(input())\n",
    "b=int(input())\n",
    "w=a+b\n",
    "v=a/b\n",
    "print(\"Addition=\",w)\n",
    "print(\"division=\",v)"
   ]
  },
  {
   "cell_type": "code",
   "execution_count": 3,
   "metadata": {},
   "outputs": [
    {
     "name": "stdout",
     "output_type": "stream",
     "text": [
      "enter Base:100\n",
      "enter height:46\n",
      "Area of triangle: 2300.0\n"
     ]
    }
   ],
   "source": [
    "###### Q3.Write a Python Program to find area of triangle\n",
    "b=int(input(\"enter Base:\"))\n",
    "h=int(input(\"enter height:\"))\n",
    "a=(1/2)*b*h\n",
    "print(\"Area of triangle:\",a)"
   ]
  },
  {
   "cell_type": "code",
   "execution_count": 4,
   "metadata": {},
   "outputs": [
    {
     "name": "stdout",
     "output_type": "stream",
     "text": [
      "Num1:100\n",
      "Num2:78\n",
      "Before swapping: \n",
      " a= 100 \t b= 78\n",
      "After swapping: \n",
      " a= 78 \t b= 100\n"
     ]
    }
   ],
   "source": [
    "###### Q4.Write a Python Program to swap to variables\n",
    "a=int(input(\"Num1:\"))\n",
    "b=int(input(\"Num2:\"))\n",
    "print(\"Before swapping:\",\"\\n\",\"a=\",a,\"\\t\",\"b=\",b)\n",
    "temp=a\n",
    "a=b\n",
    "b=temp\n",
    "print(\"After swapping:\",\"\\n\",\"a=\",a,\"\\t\",\"b=\",b)"
   ]
  },
  {
   "cell_type": "code",
   "execution_count": 5,
   "metadata": {},
   "outputs": [
    {
     "name": "stdout",
     "output_type": "stream",
     "text": [
      "Random No. Between 0 - 1= 0.8171135626236337\n"
     ]
    }
   ],
   "source": [
    "###### Q5.Write a Python Program to generate a random number \n",
    "import random as rd\n",
    "x=rd.random()\n",
    "print(\"Random No. Between 0 - 1=\",x)"
   ]
  },
  {
   "cell_type": "code",
   "execution_count": null,
   "metadata": {},
   "outputs": [],
   "source": []
  }
 ],
 "metadata": {
  "kernelspec": {
   "display_name": "Python 3",
   "language": "python",
   "name": "python3"
  },
  "language_info": {
   "codemirror_mode": {
    "name": "ipython",
    "version": 3
   },
   "file_extension": ".py",
   "mimetype": "text/x-python",
   "name": "python",
   "nbconvert_exporter": "python",
   "pygments_lexer": "ipython3",
   "version": "3.8.5"
  }
 },
 "nbformat": 4,
 "nbformat_minor": 4
}
