{
 "cells": [
  {
   "cell_type": "code",
   "execution_count": 1,
   "metadata": {},
   "outputs": [
    {
     "name": "stdout",
     "output_type": "stream",
     "text": [
      "enter a number:7\n",
      "Factorial: 5040\n"
     ]
    }
   ],
   "source": [
    "###### Q1. Write a Python Program to Find the Factorial of a Number\n",
    "x=int(input(\"enter a number:\"))\n",
    "f=1\n",
    "for i in range(2,x+1):\n",
    "    f*=i\n",
    "print(\"Factorial:\",f)"
   ]
  },
  {
   "cell_type": "code",
   "execution_count": 2,
   "metadata": {},
   "outputs": [
    {
     "name": "stdout",
     "output_type": "stream",
     "text": [
      "enter number to find its multiplication Table:19\n",
      "19\n",
      "38\n",
      "57\n",
      "76\n",
      "95\n",
      "114\n",
      "133\n",
      "152\n",
      "171\n",
      "190\n"
     ]
    }
   ],
   "source": [
    "###### Q2. Write a Python Program to Display the multiplication Table\n",
    "x=int(input(\"enter number to find its multiplication Table:\"))\n",
    "for i in range(1,11):\n",
    "    print(x*i)"
   ]
  },
  {
   "cell_type": "code",
   "execution_count": 3,
   "metadata": {},
   "outputs": [
    {
     "name": "stdout",
     "output_type": "stream",
     "text": [
      "enter number of terms you want:15\n",
      "0 1 1 2 3 5 8 13 21 34 55 89 144 233 377 "
     ]
    }
   ],
   "source": [
    "###### Q3. Write a Python Program to Print the Fibonacci sequence\n",
    "n=int(input(\"enter number of terms you want:\"))\n",
    "a=0\n",
    "b=1\n",
    "print(a,b,end=\" \")\n",
    "for i in range(2,n):\n",
    "    x=a+b\n",
    "    a=b\n",
    "    b=x\n",
    "    print(x,end=\" \")"
   ]
  },
  {
   "cell_type": "code",
   "execution_count": 4,
   "metadata": {},
   "outputs": [
    {
     "name": "stdout",
     "output_type": "stream",
     "text": [
      "enter a number:153\n",
      "Armstrong\n"
     ]
    }
   ],
   "source": [
    "###### Q4. Write a Python Program to Check Armstrong Number\n",
    "n=int(input(\"enter a number:\"))\n",
    "l=len(str(n))\n",
    "arm=0\n",
    "ori=n\n",
    "while(ori>0):\n",
    "    x=ori%10\n",
    "    ori=ori//10\n",
    "    arm+=x**l\n",
    "if(arm==n):\n",
    "    print(\"Armstrong\")\n",
    "else:\n",
    "    print(\"Not Armstrong\")"
   ]
  },
  {
   "cell_type": "code",
   "execution_count": 5,
   "metadata": {},
   "outputs": [
    {
     "name": "stdout",
     "output_type": "stream",
     "text": [
      "enter lower limit:10\n",
      "enter upper limit:10000\n",
      "153 370 371 407 1634 8208 9474 "
     ]
    }
   ],
   "source": [
    "###### Q5. Write a Python Program to Find Armstrong Number in an Interval\n",
    "n1=int(input(\"enter lower limit:\"))\n",
    "n2=int(input(\"enter upper limit:\"))\n",
    "for i in range(n1,n2+1):\n",
    "    l=len(str(i))\n",
    "    arm=0\n",
    "    ori=i\n",
    "    while(ori>0):\n",
    "        x=ori%10\n",
    "        ori=ori//10\n",
    "        arm+=x**l\n",
    "    if(i==arm):\n",
    "        print(i,end=\" \")"
   ]
  },
  {
   "cell_type": "code",
   "execution_count": 6,
   "metadata": {},
   "outputs": [
    {
     "name": "stdout",
     "output_type": "stream",
     "text": [
      "enter number:20\n",
      "Sum of 20 Natural Numbers: 210\n"
     ]
    }
   ],
   "source": [
    "###### Q6. Write a Python Program to Find the Sum of Natural Numbers\n",
    "x=int(input(\"enter number:\"))\n",
    "sm=0\n",
    "for i in range(1,x+1):\n",
    "    sm+=i\n",
    "print(\"Sum of\",x,\"Natural Numbers:\",sm)"
   ]
  },
  {
   "cell_type": "code",
   "execution_count": null,
   "metadata": {},
   "outputs": [],
   "source": []
  }
 ],
 "metadata": {
  "kernelspec": {
   "display_name": "Python 3",
   "language": "python",
   "name": "python3"
  },
  "language_info": {
   "codemirror_mode": {
    "name": "ipython",
    "version": 3
   },
   "file_extension": ".py",
   "mimetype": "text/x-python",
   "name": "python",
   "nbconvert_exporter": "python",
   "pygments_lexer": "ipython3",
   "version": "3.8.5"
  }
 },
 "nbformat": 4,
 "nbformat_minor": 4
}
