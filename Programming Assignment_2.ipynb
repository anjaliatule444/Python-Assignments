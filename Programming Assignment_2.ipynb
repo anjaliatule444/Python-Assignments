{
 "cells": [
  {
   "cell_type": "code",
   "execution_count": 1,
   "metadata": {},
   "outputs": [
    {
     "name": "stdout",
     "output_type": "stream",
     "text": [
      "enter kilometers:100\n",
      "Miles: 62.0\n"
     ]
    }
   ],
   "source": [
    "######  Q1.Write a python program to convert kilometers to miles\n",
    "km=float(input(\"enter kilometers:\"))\n",
    "m=0.62*km\n",
    "print(\"Miles:\",m)"
   ]
  },
  {
   "cell_type": "code",
   "execution_count": 2,
   "metadata": {},
   "outputs": [
    {
     "name": "stdout",
     "output_type": "stream",
     "text": [
      "enter temp in celcius:5\n",
      "Fahrenheit: 41.0\n"
     ]
    }
   ],
   "source": [
    "###### Q2.Write a Python Program to convert celcius to farenheit\n",
    "celcius=float(input(\"enter temp in celcius:\"))\n",
    "f=(celcius*(9/5))+32\n",
    "print(\"Fahrenheit:\",f)"
   ]
  },
  {
   "cell_type": "code",
   "execution_count": 3,
   "metadata": {},
   "outputs": [
    {
     "name": "stdout",
     "output_type": "stream",
     "text": [
      "enter Year:2021\n",
      "enter Month:12\n",
      "   December 2021\n",
      "Mo Tu We Th Fr Sa Su\n",
      "       1  2  3  4  5\n",
      " 6  7  8  9 10 11 12\n",
      "13 14 15 16 17 18 19\n",
      "20 21 22 23 24 25 26\n",
      "27 28 29 30 31\n",
      "\n"
     ]
    }
   ],
   "source": [
    "###### Q3.Write a Python Program to display calendar\n",
    "import calendar as x\n",
    "y=int(input(\"enter Year:\"))\n",
    "m=int(input(\"enter Month:\"))\n",
    "print(x.month(y,m))"
   ]
  },
  {
   "cell_type": "code",
   "execution_count": 4,
   "metadata": {},
   "outputs": [
    {
     "name": "stdout",
     "output_type": "stream",
     "text": [
      "1\n",
      "5\n",
      "6\n",
      "Roots of quadratic equation are: -2.0 & -3.0\n"
     ]
    }
   ],
   "source": [
    "###### Q4.Write a Python Program to solve the quadratic equation\n",
    "a=int(input())\n",
    "b=int(input())\n",
    "c=int(input())\n",
    "r=((b*b)-(4*a*c))**(1/2)\n",
    "w1=(-b+r)/(2*a)\n",
    "w2=(-b-r)/(2*a)\n",
    "print(\"Roots of quadratic equation are:\",w1,\"&\",w2)"
   ]
  },
  {
   "cell_type": "code",
   "execution_count": 5,
   "metadata": {},
   "outputs": [
    {
     "name": "stdout",
     "output_type": "stream",
     "text": [
      "enter num1:67\n",
      "enter num2:98\n",
      "Before swapping: \n",
      " a= 67 \t b= 98\n",
      "Before swapping: \n",
      " a= 98 \t b= 67\n"
     ]
    }
   ],
   "source": [
    "###### Q5.Write a Python Program to swap two variables without temp\n",
    "a=int(input(\"enter num1:\"))\n",
    "b=int(input(\"enter num2:\"))\n",
    "print(\"Before swapping:\",\"\\n\",\"a=\",a,\"\\t\",\"b=\",b)\n",
    "w=a+b\n",
    "a=w-a\n",
    "b=w-b\n",
    "print(\"Before swapping:\",\"\\n\",\"a=\",a,\"\\t\",\"b=\",b)"
   ]
  },
  {
   "cell_type": "code",
   "execution_count": null,
   "metadata": {},
   "outputs": [],
   "source": []
  }
 ],
 "metadata": {
  "kernelspec": {
   "display_name": "Python 3",
   "language": "python",
   "name": "python3"
  },
  "language_info": {
   "codemirror_mode": {
    "name": "ipython",
    "version": 3
   },
   "file_extension": ".py",
   "mimetype": "text/x-python",
   "name": "python",
   "nbconvert_exporter": "python",
   "pygments_lexer": "ipython3",
   "version": "3.8.5"
  }
 },
 "nbformat": 4,
 "nbformat_minor": 4
}
